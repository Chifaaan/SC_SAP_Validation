{
 "cells": [
  {
   "cell_type": "code",
   "execution_count": 9,
   "id": "352ab9aa",
   "metadata": {},
   "outputs": [],
   "source": [
    "import pandas as pd\n"
   ]
  },
  {
   "cell_type": "code",
   "execution_count": 10,
   "id": "6018e024",
   "metadata": {},
   "outputs": [],
   "source": [
    "sap_df = pd.read_csv('exports/beli_konsi_sap.csv')\n",
    "sc_df = pd.read_csv('exports/beli_konsi_sc.csv')\n"
   ]
  },
  {
   "cell_type": "code",
   "execution_count": 11,
   "id": "fe269318",
   "metadata": {},
   "outputs": [
    {
     "name": "stdout",
     "output_type": "stream",
     "text": [
      "<class 'pandas.core.frame.DataFrame'>\n",
      "RangeIndex: 5690 entries, 0 to 5689\n",
      "Data columns (total 10 columns):\n",
      " #   Column         Non-Null Count  Dtype \n",
      "---  ------         --------------  ----- \n",
      " 0   profit_center  5690 non-null   object\n",
      " 1   document_date  5690 non-null   object\n",
      " 2   posting_date   5690 non-null   object\n",
      " 3   assignment     5690 non-null   int64 \n",
      " 4   gl_account     5690 non-null   int64 \n",
      " 5   text           46 non-null     object\n",
      " 6   doc_number     5690 non-null   int64 \n",
      " 7   doc_type       5690 non-null   object\n",
      " 8   posting_key    5690 non-null   int64 \n",
      " 9   amount         5690 non-null   int64 \n",
      "dtypes: int64(5), object(5)\n",
      "memory usage: 444.7+ KB\n"
     ]
    }
   ],
   "source": [
    "sap_df.info()"
   ]
  },
  {
   "cell_type": "code",
   "execution_count": 12,
   "id": "2480aed2",
   "metadata": {},
   "outputs": [
    {
     "name": "stdout",
     "output_type": "stream",
     "text": [
      "<class 'pandas.core.frame.DataFrame'>\n",
      "RangeIndex: 43348 entries, 0 to 43347\n",
      "Data columns (total 14 columns):\n",
      " #   Column              Non-Null Count  Dtype  \n",
      "---  ------              --------------  -----  \n",
      " 0   kode_outlet         43348 non-null  object \n",
      " 1   no_transaksi        43348 non-null  object \n",
      " 2   kode_obat           43348 non-null  int64  \n",
      " 3   liph_date           43348 non-null  object \n",
      " 4   segmen              43348 non-null  object \n",
      " 5   hna                 43348 non-null  int64  \n",
      " 6   qty_jual            43348 non-null  int64  \n",
      " 7   disc_margin         43348 non-null  float64\n",
      " 8   disc_principal      43348 non-null  float64\n",
      " 9   disc_principal_val  43348 non-null  float64\n",
      " 10  total_bayar         43348 non-null  int64  \n",
      " 11  harga_jual          43348 non-null  int64  \n",
      " 12  harga_srp           43348 non-null  int64  \n",
      " 13  kode_supplier       43348 non-null  int64  \n",
      "dtypes: float64(3), int64(7), object(4)\n",
      "memory usage: 4.6+ MB\n"
     ]
    }
   ],
   "source": [
    "sc_df.info()"
   ]
  },
  {
   "cell_type": "code",
   "execution_count": 13,
   "id": "e5062fa2",
   "metadata": {},
   "outputs": [],
   "source": [
    "# Konversi tanggal\n",
    "sap_df[\"document_date\"] = pd.to_datetime(sap_df[\"document_date\"])\n",
    "sc_df[\"liph_date\"] = pd.to_datetime(sc_df[\"liph_date\"])\n",
    "\n",
    "# Normalisasi kolom\n",
    "sap_df[\"outlet\"] = sap_df[\"profit_center\"]\n",
    "sc_df[\"outlet\"] = sc_df[\"kode_outlet\"]\n",
    "\n",
    "sap_df[\"tanggal\"] = sap_df[\"document_date\"]\n",
    "sc_df[\"tanggal\"] = sc_df[\"liph_date\"]\n",
    "\n",
    "# Grouping\n",
    "\n",
    "sap_df[\"amount\"] = sap_df[\"amount\"].astype(float)\n",
    "sc_df[\"total_bayar\"] = sc_df[\"total_bayar\"].astype(float)\n",
    "sap_grouped = sap_df.groupby([\"outlet\", \"tanggal\"], as_index=False)[\"amount\"].sum()\n",
    "sc_grouped = sc_df.groupby([\"outlet\", \"tanggal\"], as_index=False)[\"total_bayar\"].sum()\n"
   ]
  },
  {
   "cell_type": "code",
   "execution_count": 14,
   "id": "276cf0d1",
   "metadata": {},
   "outputs": [
    {
     "data": {
      "application/vnd.microsoft.datawrangler.viewer.v0+json": {
       "columns": [
        {
         "name": "index",
         "rawType": "int64",
         "type": "integer"
        },
        {
         "name": "outlet",
         "rawType": "object",
         "type": "string"
        },
        {
         "name": "tanggal",
         "rawType": "datetime64[ns]",
         "type": "datetime"
        },
        {
         "name": "amount",
         "rawType": "float64",
         "type": "float"
        }
       ],
       "ref": "284ed300-7431-4dbf-aa3e-53ca8292c0d9",
       "rows": [
        [
         "0",
         "3150",
         "2025-01-31 00:00:00",
         "-432676.0"
        ],
        [
         "1",
         "3150",
         "2025-02-28 00:00:00",
         "334067.0"
        ],
        [
         "2",
         "3150",
         "2025-03-31 00:00:00",
         "-1687115.0"
        ],
        [
         "3",
         "3150",
         "2025-04-30 00:00:00",
         "-3316933.0"
        ],
        [
         "4",
         "3150",
         "2025-05-31 00:00:00",
         "-3194913.0"
        ],
        [
         "5",
         "BX01",
         "2025-01-01 00:00:00",
         "4227888.0"
        ],
        [
         "6",
         "BX01",
         "2025-01-02 00:00:00",
         "6400765.0"
        ],
        [
         "7",
         "BX01",
         "2025-01-03 00:00:00",
         "5941720.0"
        ],
        [
         "8",
         "BX01",
         "2025-01-04 00:00:00",
         "6701073.0"
        ],
        [
         "9",
         "BX01",
         "2025-01-05 00:00:00",
         "2711437.0"
        ],
        [
         "10",
         "BX01",
         "2025-01-06 00:00:00",
         "3144735.0"
        ],
        [
         "11",
         "BX01",
         "2025-01-07 00:00:00",
         "5424245.0"
        ],
        [
         "12",
         "BX01",
         "2025-01-08 00:00:00",
         "3710434.0"
        ],
        [
         "13",
         "BX01",
         "2025-01-09 00:00:00",
         "2496573.0"
        ],
        [
         "14",
         "BX01",
         "2025-01-10 00:00:00",
         "2214004.0"
        ],
        [
         "15",
         "BX01",
         "2025-01-11 00:00:00",
         "875469.0"
        ],
        [
         "16",
         "BX01",
         "2025-01-12 00:00:00",
         "2016834.0"
        ],
        [
         "17",
         "BX01",
         "2025-01-13 00:00:00",
         "2473157.0"
        ],
        [
         "18",
         "BX01",
         "2025-01-14 00:00:00",
         "2883621.0"
        ],
        [
         "19",
         "BX01",
         "2025-01-15 00:00:00",
         "3219998.0"
        ],
        [
         "20",
         "BX01",
         "2025-01-16 00:00:00",
         "1866113.0"
        ],
        [
         "21",
         "BX01",
         "2025-01-17 00:00:00",
         "1624263.0"
        ],
        [
         "22",
         "BX01",
         "2025-01-18 00:00:00",
         "2427215.0"
        ],
        [
         "23",
         "BX01",
         "2025-01-19 00:00:00",
         "912614.0"
        ],
        [
         "24",
         "BX01",
         "2025-01-20 00:00:00",
         "1582614.0"
        ],
        [
         "25",
         "BX01",
         "2025-01-21 00:00:00",
         "892463.0"
        ],
        [
         "26",
         "BX01",
         "2025-01-22 00:00:00",
         "3512050.0"
        ],
        [
         "27",
         "BX01",
         "2025-01-23 00:00:00",
         "1844954.0"
        ],
        [
         "28",
         "BX01",
         "2025-01-24 00:00:00",
         "4033560.0"
        ],
        [
         "29",
         "BX01",
         "2025-01-25 00:00:00",
         "3547000.0"
        ],
        [
         "30",
         "BX01",
         "2025-01-26 00:00:00",
         "4172611.0"
        ],
        [
         "31",
         "BX01",
         "2025-01-27 00:00:00",
         "5811440.0"
        ],
        [
         "32",
         "BX01",
         "2025-01-28 00:00:00",
         "3713277.0"
        ],
        [
         "33",
         "BX01",
         "2025-01-29 00:00:00",
         "4623472.0"
        ],
        [
         "34",
         "BX01",
         "2025-01-30 00:00:00",
         "2263217.0"
        ],
        [
         "35",
         "BX01",
         "2025-01-31 00:00:00",
         "6960600.0"
        ],
        [
         "36",
         "BX01",
         "2025-02-01 00:00:00",
         "4639596.0"
        ],
        [
         "37",
         "BX01",
         "2025-02-02 00:00:00",
         "2522744.0"
        ],
        [
         "38",
         "BX01",
         "2025-02-03 00:00:00",
         "1354025.0"
        ],
        [
         "39",
         "BX01",
         "2025-02-04 00:00:00",
         "1792692.0"
        ],
        [
         "40",
         "BX01",
         "2025-02-05 00:00:00",
         "2828645.0"
        ],
        [
         "41",
         "BX01",
         "2025-02-06 00:00:00",
         "2944378.0"
        ],
        [
         "42",
         "BX01",
         "2025-02-07 00:00:00",
         "2858943.0"
        ],
        [
         "43",
         "BX01",
         "2025-02-08 00:00:00",
         "3904854.0"
        ],
        [
         "44",
         "BX01",
         "2025-02-09 00:00:00",
         "2650035.0"
        ],
        [
         "45",
         "BX01",
         "2025-02-10 00:00:00",
         "713776.0"
        ],
        [
         "46",
         "BX01",
         "2025-02-11 00:00:00",
         "2292800.0"
        ],
        [
         "47",
         "BX01",
         "2025-02-12 00:00:00",
         "1255213.0"
        ],
        [
         "48",
         "BX01",
         "2025-02-13 00:00:00",
         "1756402.0"
        ],
        [
         "49",
         "BX01",
         "2025-02-14 00:00:00",
         "3359627.0"
        ]
       ],
       "shape": {
        "columns": 3,
        "rows": 5139
       }
      },
      "text/html": [
       "<div>\n",
       "<style scoped>\n",
       "    .dataframe tbody tr th:only-of-type {\n",
       "        vertical-align: middle;\n",
       "    }\n",
       "\n",
       "    .dataframe tbody tr th {\n",
       "        vertical-align: top;\n",
       "    }\n",
       "\n",
       "    .dataframe thead th {\n",
       "        text-align: right;\n",
       "    }\n",
       "</style>\n",
       "<table border=\"1\" class=\"dataframe\">\n",
       "  <thead>\n",
       "    <tr style=\"text-align: right;\">\n",
       "      <th></th>\n",
       "      <th>outlet</th>\n",
       "      <th>tanggal</th>\n",
       "      <th>amount</th>\n",
       "    </tr>\n",
       "  </thead>\n",
       "  <tbody>\n",
       "    <tr>\n",
       "      <th>0</th>\n",
       "      <td>3150</td>\n",
       "      <td>2025-01-31</td>\n",
       "      <td>-432676.0</td>\n",
       "    </tr>\n",
       "    <tr>\n",
       "      <th>1</th>\n",
       "      <td>3150</td>\n",
       "      <td>2025-02-28</td>\n",
       "      <td>334067.0</td>\n",
       "    </tr>\n",
       "    <tr>\n",
       "      <th>2</th>\n",
       "      <td>3150</td>\n",
       "      <td>2025-03-31</td>\n",
       "      <td>-1687115.0</td>\n",
       "    </tr>\n",
       "    <tr>\n",
       "      <th>3</th>\n",
       "      <td>3150</td>\n",
       "      <td>2025-04-30</td>\n",
       "      <td>-3316933.0</td>\n",
       "    </tr>\n",
       "    <tr>\n",
       "      <th>4</th>\n",
       "      <td>3150</td>\n",
       "      <td>2025-05-31</td>\n",
       "      <td>-3194913.0</td>\n",
       "    </tr>\n",
       "    <tr>\n",
       "      <th>...</th>\n",
       "      <td>...</td>\n",
       "      <td>...</td>\n",
       "      <td>...</td>\n",
       "    </tr>\n",
       "    <tr>\n",
       "      <th>5134</th>\n",
       "      <td>BX52</td>\n",
       "      <td>2025-05-27</td>\n",
       "      <td>171450.0</td>\n",
       "    </tr>\n",
       "    <tr>\n",
       "      <th>5135</th>\n",
       "      <td>BX52</td>\n",
       "      <td>2025-05-28</td>\n",
       "      <td>757504.0</td>\n",
       "    </tr>\n",
       "    <tr>\n",
       "      <th>5136</th>\n",
       "      <td>BX52</td>\n",
       "      <td>2025-05-29</td>\n",
       "      <td>270863.0</td>\n",
       "    </tr>\n",
       "    <tr>\n",
       "      <th>5137</th>\n",
       "      <td>BX52</td>\n",
       "      <td>2025-05-30</td>\n",
       "      <td>167072.0</td>\n",
       "    </tr>\n",
       "    <tr>\n",
       "      <th>5138</th>\n",
       "      <td>BX52</td>\n",
       "      <td>2025-05-31</td>\n",
       "      <td>1010093.0</td>\n",
       "    </tr>\n",
       "  </tbody>\n",
       "</table>\n",
       "<p>5139 rows × 3 columns</p>\n",
       "</div>"
      ],
      "text/plain": [
       "     outlet    tanggal     amount\n",
       "0      3150 2025-01-31  -432676.0\n",
       "1      3150 2025-02-28   334067.0\n",
       "2      3150 2025-03-31 -1687115.0\n",
       "3      3150 2025-04-30 -3316933.0\n",
       "4      3150 2025-05-31 -3194913.0\n",
       "...     ...        ...        ...\n",
       "5134   BX52 2025-05-27   171450.0\n",
       "5135   BX52 2025-05-28   757504.0\n",
       "5136   BX52 2025-05-29   270863.0\n",
       "5137   BX52 2025-05-30   167072.0\n",
       "5138   BX52 2025-05-31  1010093.0\n",
       "\n",
       "[5139 rows x 3 columns]"
      ]
     },
     "execution_count": 14,
     "metadata": {},
     "output_type": "execute_result"
    }
   ],
   "source": [
    "sap_grouped"
   ]
  },
  {
   "cell_type": "code",
   "execution_count": 15,
   "id": "f63d8084",
   "metadata": {},
   "outputs": [
    {
     "data": {
      "application/vnd.microsoft.datawrangler.viewer.v0+json": {
       "columns": [
        {
         "name": "index",
         "rawType": "int64",
         "type": "integer"
        },
        {
         "name": "outlet",
         "rawType": "object",
         "type": "string"
        },
        {
         "name": "tanggal",
         "rawType": "datetime64[ns]",
         "type": "datetime"
        },
        {
         "name": "total_bayar",
         "rawType": "float64",
         "type": "float"
        }
       ],
       "ref": "aaa92c9f-e864-4226-a236-3da4dbb58ad1",
       "rows": [
        [
         "0",
         "BX01",
         "2025-01-01 00:00:00",
         "4698847.0"
        ],
        [
         "1",
         "BX01",
         "2025-01-02 00:00:00",
         "6820033.0"
        ],
        [
         "2",
         "BX01",
         "2025-01-03 00:00:00",
         "6537741.0"
        ],
        [
         "3",
         "BX01",
         "2025-01-04 00:00:00",
         "7389372.0"
        ],
        [
         "4",
         "BX01",
         "2025-01-05 00:00:00",
         "3009697.0"
        ],
        [
         "5",
         "BX01",
         "2025-01-06 00:00:00",
         "3340117.0"
        ],
        [
         "6",
         "BX01",
         "2025-01-07 00:00:00",
         "5341692.0"
        ],
        [
         "7",
         "BX01",
         "2025-01-08 00:00:00",
         "3793818.0"
        ],
        [
         "8",
         "BX01",
         "2025-01-09 00:00:00",
         "2706228.0"
        ],
        [
         "9",
         "BX01",
         "2025-01-10 00:00:00",
         "2445991.0"
        ],
        [
         "10",
         "BX01",
         "2025-01-11 00:00:00",
         "962822.0"
        ],
        [
         "11",
         "BX01",
         "2025-01-12 00:00:00",
         "2238576.0"
        ],
        [
         "12",
         "BX01",
         "2025-01-13 00:00:00",
         "2915071.0"
        ],
        [
         "13",
         "BX01",
         "2025-01-14 00:00:00",
         "3205186.0"
        ],
        [
         "14",
         "BX01",
         "2025-01-15 00:00:00",
         "3569724.0"
        ],
        [
         "15",
         "BX01",
         "2025-01-16 00:00:00",
         "2067065.0"
        ],
        [
         "16",
         "BX01",
         "2025-01-17 00:00:00",
         "1811871.0"
        ],
        [
         "17",
         "BX01",
         "2025-01-18 00:00:00",
         "2694207.0"
        ],
        [
         "18",
         "BX01",
         "2025-01-19 00:00:00",
         "1013002.0"
        ],
        [
         "19",
         "BX01",
         "2025-01-20 00:00:00",
         "1756702.0"
        ],
        [
         "20",
         "BX01",
         "2025-01-21 00:00:00",
         "990633.0"
        ],
        [
         "21",
         "BX01",
         "2025-01-22 00:00:00",
         "3788503.0"
        ],
        [
         "22",
         "BX01",
         "2025-01-23 00:00:00",
         "2064065.0"
        ],
        [
         "23",
         "BX01",
         "2025-01-24 00:00:00",
         "4385214.0"
        ],
        [
         "24",
         "BX01",
         "2025-01-25 00:00:00",
         "3912259.0"
        ],
        [
         "25",
         "BX01",
         "2025-01-26 00:00:00",
         "4569551.0"
        ],
        [
         "26",
         "BX01",
         "2025-01-27 00:00:00",
         "6431001.0"
        ],
        [
         "27",
         "BX01",
         "2025-01-28 00:00:00",
         "4052445.0"
        ],
        [
         "28",
         "BX01",
         "2025-01-29 00:00:00",
         "5053664.0"
        ],
        [
         "29",
         "BX01",
         "2025-01-30 00:00:00",
         "2424611.0"
        ],
        [
         "30",
         "BX01",
         "2025-01-31 00:00:00",
         "7582677.0"
        ],
        [
         "31",
         "BX01",
         "2025-02-01 00:00:00",
         "5198758.0"
        ],
        [
         "32",
         "BX01",
         "2025-02-02 00:00:00",
         "2804612.0"
        ],
        [
         "33",
         "BX01",
         "2025-02-03 00:00:00",
         "1502970.0"
        ],
        [
         "34",
         "BX01",
         "2025-02-04 00:00:00",
         "1989890.0"
        ],
        [
         "35",
         "BX01",
         "2025-02-05 00:00:00",
         "3162793.0"
        ],
        [
         "36",
         "BX01",
         "2025-02-06 00:00:00",
         "3263786.0"
        ],
        [
         "37",
         "BX01",
         "2025-02-07 00:00:00",
         "3499819.0"
        ],
        [
         "38",
         "BX01",
         "2025-02-08 00:00:00",
         "4196619.0"
        ],
        [
         "39",
         "BX01",
         "2025-02-09 00:00:00",
         "2896418.0"
        ],
        [
         "40",
         "BX01",
         "2025-02-10 00:00:00",
         "792183.0"
        ],
        [
         "41",
         "BX01",
         "2025-02-11 00:00:00",
         "2399773.0"
        ],
        [
         "42",
         "BX01",
         "2025-02-12 00:00:00",
         "1393287.0"
        ],
        [
         "43",
         "BX01",
         "2025-02-13 00:00:00",
         "1945133.0"
        ],
        [
         "44",
         "BX01",
         "2025-02-14 00:00:00",
         "3719178.0"
        ],
        [
         "45",
         "BX01",
         "2025-02-15 00:00:00",
         "2849508.0"
        ],
        [
         "46",
         "BX01",
         "2025-02-16 00:00:00",
         "1894469.0"
        ],
        [
         "47",
         "BX01",
         "2025-02-17 00:00:00",
         "1839678.0"
        ],
        [
         "48",
         "BX01",
         "2025-02-18 00:00:00",
         "1171609.0"
        ],
        [
         "49",
         "BX01",
         "2025-02-19 00:00:00",
         "864674.0"
        ]
       ],
       "shape": {
        "columns": 3,
        "rows": 5134
       }
      },
      "text/html": [
       "<div>\n",
       "<style scoped>\n",
       "    .dataframe tbody tr th:only-of-type {\n",
       "        vertical-align: middle;\n",
       "    }\n",
       "\n",
       "    .dataframe tbody tr th {\n",
       "        vertical-align: top;\n",
       "    }\n",
       "\n",
       "    .dataframe thead th {\n",
       "        text-align: right;\n",
       "    }\n",
       "</style>\n",
       "<table border=\"1\" class=\"dataframe\">\n",
       "  <thead>\n",
       "    <tr style=\"text-align: right;\">\n",
       "      <th></th>\n",
       "      <th>outlet</th>\n",
       "      <th>tanggal</th>\n",
       "      <th>total_bayar</th>\n",
       "    </tr>\n",
       "  </thead>\n",
       "  <tbody>\n",
       "    <tr>\n",
       "      <th>0</th>\n",
       "      <td>BX01</td>\n",
       "      <td>2025-01-01</td>\n",
       "      <td>4698847.0</td>\n",
       "    </tr>\n",
       "    <tr>\n",
       "      <th>1</th>\n",
       "      <td>BX01</td>\n",
       "      <td>2025-01-02</td>\n",
       "      <td>6820033.0</td>\n",
       "    </tr>\n",
       "    <tr>\n",
       "      <th>2</th>\n",
       "      <td>BX01</td>\n",
       "      <td>2025-01-03</td>\n",
       "      <td>6537741.0</td>\n",
       "    </tr>\n",
       "    <tr>\n",
       "      <th>3</th>\n",
       "      <td>BX01</td>\n",
       "      <td>2025-01-04</td>\n",
       "      <td>7389372.0</td>\n",
       "    </tr>\n",
       "    <tr>\n",
       "      <th>4</th>\n",
       "      <td>BX01</td>\n",
       "      <td>2025-01-05</td>\n",
       "      <td>3009697.0</td>\n",
       "    </tr>\n",
       "    <tr>\n",
       "      <th>...</th>\n",
       "      <td>...</td>\n",
       "      <td>...</td>\n",
       "      <td>...</td>\n",
       "    </tr>\n",
       "    <tr>\n",
       "      <th>5129</th>\n",
       "      <td>BX52</td>\n",
       "      <td>2025-05-27</td>\n",
       "      <td>175158.0</td>\n",
       "    </tr>\n",
       "    <tr>\n",
       "      <th>5130</th>\n",
       "      <td>BX52</td>\n",
       "      <td>2025-05-28</td>\n",
       "      <td>840829.0</td>\n",
       "    </tr>\n",
       "    <tr>\n",
       "      <th>5131</th>\n",
       "      <td>BX52</td>\n",
       "      <td>2025-05-29</td>\n",
       "      <td>300658.0</td>\n",
       "    </tr>\n",
       "    <tr>\n",
       "      <th>5132</th>\n",
       "      <td>BX52</td>\n",
       "      <td>2025-05-30</td>\n",
       "      <td>185450.0</td>\n",
       "    </tr>\n",
       "    <tr>\n",
       "      <th>5133</th>\n",
       "      <td>BX52</td>\n",
       "      <td>2025-05-31</td>\n",
       "      <td>1121204.0</td>\n",
       "    </tr>\n",
       "  </tbody>\n",
       "</table>\n",
       "<p>5134 rows × 3 columns</p>\n",
       "</div>"
      ],
      "text/plain": [
       "     outlet    tanggal  total_bayar\n",
       "0      BX01 2025-01-01    4698847.0\n",
       "1      BX01 2025-01-02    6820033.0\n",
       "2      BX01 2025-01-03    6537741.0\n",
       "3      BX01 2025-01-04    7389372.0\n",
       "4      BX01 2025-01-05    3009697.0\n",
       "...     ...        ...          ...\n",
       "5129   BX52 2025-05-27     175158.0\n",
       "5130   BX52 2025-05-28     840829.0\n",
       "5131   BX52 2025-05-29     300658.0\n",
       "5132   BX52 2025-05-30     185450.0\n",
       "5133   BX52 2025-05-31    1121204.0\n",
       "\n",
       "[5134 rows x 3 columns]"
      ]
     },
     "execution_count": 15,
     "metadata": {},
     "output_type": "execute_result"
    }
   ],
   "source": [
    "sc_grouped"
   ]
  },
  {
   "cell_type": "code",
   "execution_count": 16,
   "id": "7a15f8d6",
   "metadata": {},
   "outputs": [
    {
     "data": {
      "application/vnd.microsoft.datawrangler.viewer.v0+json": {
       "columns": [
        {
         "name": "index",
         "rawType": "int64",
         "type": "integer"
        },
        {
         "name": "outlet",
         "rawType": "object",
         "type": "string"
        },
        {
         "name": "tanggal",
         "rawType": "datetime64[ns]",
         "type": "datetime"
        },
        {
         "name": "amount",
         "rawType": "float64",
         "type": "float"
        },
        {
         "name": "total_bayar",
         "rawType": "float64",
         "type": "float"
        },
        {
         "name": "selisih",
         "rawType": "float64",
         "type": "float"
        },
        {
         "name": "status",
         "rawType": "object",
         "type": "string"
        }
       ],
       "ref": "fd83fce0-9881-4246-a908-c73ec2fe1553",
       "rows": [
        [
         "0",
         "3150",
         "2025-01-31 00:00:00",
         "-432676.0",
         null,
         null,
         "VALID"
        ],
        [
         "1",
         "3150",
         "2025-02-28 00:00:00",
         "334067.0",
         null,
         null,
         "VALID"
        ],
        [
         "2",
         "3150",
         "2025-03-31 00:00:00",
         "-1687115.0",
         null,
         null,
         "VALID"
        ],
        [
         "3",
         "3150",
         "2025-04-30 00:00:00",
         "-3316933.0",
         null,
         null,
         "VALID"
        ],
        [
         "4",
         "3150",
         "2025-05-31 00:00:00",
         "-3194913.0",
         null,
         null,
         "VALID"
        ],
        [
         "5",
         "BX01",
         "2025-01-01 00:00:00",
         "4227888.0",
         "4698847.0",
         "470959.0",
         "TIDAK VALID"
        ],
        [
         "6",
         "BX01",
         "2025-01-02 00:00:00",
         "6400765.0",
         "6820033.0",
         "419268.0",
         "TIDAK VALID"
        ],
        [
         "7",
         "BX01",
         "2025-01-03 00:00:00",
         "5941720.0",
         "6537741.0",
         "596021.0",
         "TIDAK VALID"
        ],
        [
         "8",
         "BX01",
         "2025-01-04 00:00:00",
         "6701073.0",
         "7389372.0",
         "688299.0",
         "TIDAK VALID"
        ],
        [
         "9",
         "BX01",
         "2025-01-05 00:00:00",
         "2711437.0",
         "3009697.0",
         "298260.0",
         "TIDAK VALID"
        ],
        [
         "10",
         "BX01",
         "2025-01-06 00:00:00",
         "3144735.0",
         "3340117.0",
         "195382.0",
         "TIDAK VALID"
        ],
        [
         "11",
         "BX01",
         "2025-01-07 00:00:00",
         "5424245.0",
         "5341692.0",
         "-82553.0",
         "TIDAK VALID"
        ],
        [
         "12",
         "BX01",
         "2025-01-08 00:00:00",
         "3710434.0",
         "3793818.0",
         "83384.0",
         "TIDAK VALID"
        ],
        [
         "13",
         "BX01",
         "2025-01-09 00:00:00",
         "2496573.0",
         "2706228.0",
         "209655.0",
         "TIDAK VALID"
        ],
        [
         "14",
         "BX01",
         "2025-01-10 00:00:00",
         "2214004.0",
         "2445991.0",
         "231987.0",
         "TIDAK VALID"
        ],
        [
         "15",
         "BX01",
         "2025-01-11 00:00:00",
         "875469.0",
         "962822.0",
         "87353.0",
         "TIDAK VALID"
        ],
        [
         "16",
         "BX01",
         "2025-01-12 00:00:00",
         "2016834.0",
         "2238576.0",
         "221742.0",
         "TIDAK VALID"
        ],
        [
         "17",
         "BX01",
         "2025-01-13 00:00:00",
         "2473157.0",
         "2915071.0",
         "441914.0",
         "TIDAK VALID"
        ],
        [
         "18",
         "BX01",
         "2025-01-14 00:00:00",
         "2883621.0",
         "3205186.0",
         "321565.0",
         "TIDAK VALID"
        ],
        [
         "19",
         "BX01",
         "2025-01-15 00:00:00",
         "3219998.0",
         "3569724.0",
         "349726.0",
         "TIDAK VALID"
        ],
        [
         "20",
         "BX01",
         "2025-01-16 00:00:00",
         "1866113.0",
         "2067065.0",
         "200952.0",
         "TIDAK VALID"
        ],
        [
         "21",
         "BX01",
         "2025-01-17 00:00:00",
         "1624263.0",
         "1811871.0",
         "187608.0",
         "TIDAK VALID"
        ],
        [
         "22",
         "BX01",
         "2025-01-18 00:00:00",
         "2427215.0",
         "2694207.0",
         "266992.0",
         "TIDAK VALID"
        ],
        [
         "23",
         "BX01",
         "2025-01-19 00:00:00",
         "912614.0",
         "1013002.0",
         "100388.0",
         "TIDAK VALID"
        ],
        [
         "24",
         "BX01",
         "2025-01-20 00:00:00",
         "1582614.0",
         "1756702.0",
         "174088.0",
         "TIDAK VALID"
        ],
        [
         "25",
         "BX01",
         "2025-01-21 00:00:00",
         "892463.0",
         "990633.0",
         "98170.0",
         "TIDAK VALID"
        ],
        [
         "26",
         "BX01",
         "2025-01-22 00:00:00",
         "3512050.0",
         "3788503.0",
         "276453.0",
         "TIDAK VALID"
        ],
        [
         "27",
         "BX01",
         "2025-01-23 00:00:00",
         "1844954.0",
         "2064065.0",
         "219111.0",
         "TIDAK VALID"
        ],
        [
         "28",
         "BX01",
         "2025-01-24 00:00:00",
         "4033560.0",
         "4385214.0",
         "351654.0",
         "TIDAK VALID"
        ],
        [
         "29",
         "BX01",
         "2025-01-25 00:00:00",
         "3547000.0",
         "3912259.0",
         "365259.0",
         "TIDAK VALID"
        ],
        [
         "30",
         "BX01",
         "2025-01-26 00:00:00",
         "4172611.0",
         "4569551.0",
         "396940.0",
         "TIDAK VALID"
        ],
        [
         "31",
         "BX01",
         "2025-01-27 00:00:00",
         "5811440.0",
         "6431001.0",
         "619561.0",
         "TIDAK VALID"
        ],
        [
         "32",
         "BX01",
         "2025-01-28 00:00:00",
         "3713277.0",
         "4052445.0",
         "339168.0",
         "TIDAK VALID"
        ],
        [
         "33",
         "BX01",
         "2025-01-29 00:00:00",
         "4623472.0",
         "5053664.0",
         "430192.0",
         "TIDAK VALID"
        ],
        [
         "34",
         "BX01",
         "2025-01-30 00:00:00",
         "2263217.0",
         "2424611.0",
         "161394.0",
         "TIDAK VALID"
        ],
        [
         "35",
         "BX01",
         "2025-01-31 00:00:00",
         "6960600.0",
         "7582677.0",
         "622077.0",
         "TIDAK VALID"
        ],
        [
         "36",
         "BX01",
         "2025-02-01 00:00:00",
         "4639596.0",
         "5198758.0",
         "559162.0",
         "TIDAK VALID"
        ],
        [
         "37",
         "BX01",
         "2025-02-02 00:00:00",
         "2522744.0",
         "2804612.0",
         "281868.0",
         "TIDAK VALID"
        ],
        [
         "38",
         "BX01",
         "2025-02-03 00:00:00",
         "1354025.0",
         "1502970.0",
         "148945.0",
         "TIDAK VALID"
        ],
        [
         "39",
         "BX01",
         "2025-02-04 00:00:00",
         "1792692.0",
         "1989890.0",
         "197198.0",
         "TIDAK VALID"
        ],
        [
         "40",
         "BX01",
         "2025-02-05 00:00:00",
         "2828645.0",
         "3162793.0",
         "334148.0",
         "TIDAK VALID"
        ],
        [
         "41",
         "BX01",
         "2025-02-06 00:00:00",
         "2944378.0",
         "3263786.0",
         "319408.0",
         "TIDAK VALID"
        ],
        [
         "42",
         "BX01",
         "2025-02-07 00:00:00",
         "2858943.0",
         "3499819.0",
         "640876.0",
         "TIDAK VALID"
        ],
        [
         "43",
         "BX01",
         "2025-02-08 00:00:00",
         "3904854.0",
         "4196619.0",
         "291765.0",
         "TIDAK VALID"
        ],
        [
         "44",
         "BX01",
         "2025-02-09 00:00:00",
         "2650035.0",
         "2896418.0",
         "246383.0",
         "TIDAK VALID"
        ],
        [
         "45",
         "BX01",
         "2025-02-10 00:00:00",
         "713776.0",
         "792183.0",
         "78407.0",
         "TIDAK VALID"
        ],
        [
         "46",
         "BX01",
         "2025-02-11 00:00:00",
         "2292800.0",
         "2399773.0",
         "106973.0",
         "TIDAK VALID"
        ],
        [
         "47",
         "BX01",
         "2025-02-12 00:00:00",
         "1255213.0",
         "1393287.0",
         "138074.0",
         "TIDAK VALID"
        ],
        [
         "48",
         "BX01",
         "2025-02-13 00:00:00",
         "1756402.0",
         "1945133.0",
         "188731.0",
         "TIDAK VALID"
        ],
        [
         "49",
         "BX01",
         "2025-02-14 00:00:00",
         "3359627.0",
         "3719178.0",
         "359551.0",
         "TIDAK VALID"
        ]
       ],
       "shape": {
        "columns": 6,
        "rows": 5139
       }
      },
      "text/html": [
       "<div>\n",
       "<style scoped>\n",
       "    .dataframe tbody tr th:only-of-type {\n",
       "        vertical-align: middle;\n",
       "    }\n",
       "\n",
       "    .dataframe tbody tr th {\n",
       "        vertical-align: top;\n",
       "    }\n",
       "\n",
       "    .dataframe thead th {\n",
       "        text-align: right;\n",
       "    }\n",
       "</style>\n",
       "<table border=\"1\" class=\"dataframe\">\n",
       "  <thead>\n",
       "    <tr style=\"text-align: right;\">\n",
       "      <th></th>\n",
       "      <th>outlet</th>\n",
       "      <th>tanggal</th>\n",
       "      <th>amount</th>\n",
       "      <th>total_bayar</th>\n",
       "      <th>selisih</th>\n",
       "      <th>status</th>\n",
       "    </tr>\n",
       "  </thead>\n",
       "  <tbody>\n",
       "    <tr>\n",
       "      <th>0</th>\n",
       "      <td>3150</td>\n",
       "      <td>2025-01-31</td>\n",
       "      <td>-432676.0</td>\n",
       "      <td>NaN</td>\n",
       "      <td>NaN</td>\n",
       "      <td>VALID</td>\n",
       "    </tr>\n",
       "    <tr>\n",
       "      <th>1</th>\n",
       "      <td>3150</td>\n",
       "      <td>2025-02-28</td>\n",
       "      <td>334067.0</td>\n",
       "      <td>NaN</td>\n",
       "      <td>NaN</td>\n",
       "      <td>VALID</td>\n",
       "    </tr>\n",
       "    <tr>\n",
       "      <th>2</th>\n",
       "      <td>3150</td>\n",
       "      <td>2025-03-31</td>\n",
       "      <td>-1687115.0</td>\n",
       "      <td>NaN</td>\n",
       "      <td>NaN</td>\n",
       "      <td>VALID</td>\n",
       "    </tr>\n",
       "    <tr>\n",
       "      <th>3</th>\n",
       "      <td>3150</td>\n",
       "      <td>2025-04-30</td>\n",
       "      <td>-3316933.0</td>\n",
       "      <td>NaN</td>\n",
       "      <td>NaN</td>\n",
       "      <td>VALID</td>\n",
       "    </tr>\n",
       "    <tr>\n",
       "      <th>4</th>\n",
       "      <td>3150</td>\n",
       "      <td>2025-05-31</td>\n",
       "      <td>-3194913.0</td>\n",
       "      <td>NaN</td>\n",
       "      <td>NaN</td>\n",
       "      <td>VALID</td>\n",
       "    </tr>\n",
       "    <tr>\n",
       "      <th>...</th>\n",
       "      <td>...</td>\n",
       "      <td>...</td>\n",
       "      <td>...</td>\n",
       "      <td>...</td>\n",
       "      <td>...</td>\n",
       "      <td>...</td>\n",
       "    </tr>\n",
       "    <tr>\n",
       "      <th>5134</th>\n",
       "      <td>BX52</td>\n",
       "      <td>2025-05-27</td>\n",
       "      <td>171450.0</td>\n",
       "      <td>175158.0</td>\n",
       "      <td>3708.0</td>\n",
       "      <td>TIDAK VALID</td>\n",
       "    </tr>\n",
       "    <tr>\n",
       "      <th>5135</th>\n",
       "      <td>BX52</td>\n",
       "      <td>2025-05-28</td>\n",
       "      <td>757504.0</td>\n",
       "      <td>840829.0</td>\n",
       "      <td>83325.0</td>\n",
       "      <td>TIDAK VALID</td>\n",
       "    </tr>\n",
       "    <tr>\n",
       "      <th>5136</th>\n",
       "      <td>BX52</td>\n",
       "      <td>2025-05-29</td>\n",
       "      <td>270863.0</td>\n",
       "      <td>300658.0</td>\n",
       "      <td>29795.0</td>\n",
       "      <td>TIDAK VALID</td>\n",
       "    </tr>\n",
       "    <tr>\n",
       "      <th>5137</th>\n",
       "      <td>BX52</td>\n",
       "      <td>2025-05-30</td>\n",
       "      <td>167072.0</td>\n",
       "      <td>185450.0</td>\n",
       "      <td>18378.0</td>\n",
       "      <td>TIDAK VALID</td>\n",
       "    </tr>\n",
       "    <tr>\n",
       "      <th>5138</th>\n",
       "      <td>BX52</td>\n",
       "      <td>2025-05-31</td>\n",
       "      <td>1010093.0</td>\n",
       "      <td>1121204.0</td>\n",
       "      <td>111111.0</td>\n",
       "      <td>TIDAK VALID</td>\n",
       "    </tr>\n",
       "  </tbody>\n",
       "</table>\n",
       "<p>5139 rows × 6 columns</p>\n",
       "</div>"
      ],
      "text/plain": [
       "     outlet    tanggal     amount  total_bayar   selisih       status\n",
       "0      3150 2025-01-31  -432676.0          NaN       NaN        VALID\n",
       "1      3150 2025-02-28   334067.0          NaN       NaN        VALID\n",
       "2      3150 2025-03-31 -1687115.0          NaN       NaN        VALID\n",
       "3      3150 2025-04-30 -3316933.0          NaN       NaN        VALID\n",
       "4      3150 2025-05-31 -3194913.0          NaN       NaN        VALID\n",
       "...     ...        ...        ...          ...       ...          ...\n",
       "5134   BX52 2025-05-27   171450.0     175158.0    3708.0  TIDAK VALID\n",
       "5135   BX52 2025-05-28   757504.0     840829.0   83325.0  TIDAK VALID\n",
       "5136   BX52 2025-05-29   270863.0     300658.0   29795.0  TIDAK VALID\n",
       "5137   BX52 2025-05-30   167072.0     185450.0   18378.0  TIDAK VALID\n",
       "5138   BX52 2025-05-31  1010093.0    1121204.0  111111.0  TIDAK VALID\n",
       "\n",
       "[5139 rows x 6 columns]"
      ]
     },
     "execution_count": 16,
     "metadata": {},
     "output_type": "execute_result"
    }
   ],
   "source": [
    "validasi = pd.merge(sap_grouped, sc_grouped, on=[\"outlet\", \"tanggal\"], how=\"outer\")\n",
    "validasi[\"selisih\"] = validasi[\"total_bayar\"] - validasi[\"amount\"]\n",
    "validasi[\"status\"] = validasi[\"selisih\"].apply(lambda x: \"VALID\" if pd.isna(x) or abs(x) < 1 else \"TIDAK VALID\")\n",
    "\n",
    "validasi.sort_values(by=[\"status\", \"outlet\", \"tanggal\"], ascending=[False, True, True])\n"
   ]
  }
 ],
 "metadata": {
  "kernelspec": {
   "display_name": "kfml",
   "language": "python",
   "name": "python3"
  },
  "language_info": {
   "codemirror_mode": {
    "name": "ipython",
    "version": 3
   },
   "file_extension": ".py",
   "mimetype": "text/x-python",
   "name": "python",
   "nbconvert_exporter": "python",
   "pygments_lexer": "ipython3",
   "version": "3.10.18"
  }
 },
 "nbformat": 4,
 "nbformat_minor": 5
}
