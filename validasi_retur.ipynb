{
 "cells": [
  {
   "cell_type": "code",
   "execution_count": 1,
   "id": "00c1c00c",
   "metadata": {},
   "outputs": [],
   "source": [
    "import pandas as pd"
   ]
  },
  {
   "cell_type": "code",
   "execution_count": 2,
   "id": "c736c659",
   "metadata": {},
   "outputs": [],
   "source": [
    "sap_df = pd.read_csv('exports/beli_retur_sap.csv')\n",
    "sc_df = pd.read_csv('exports/beli_retur_sc.csv')"
   ]
  },
  {
   "cell_type": "code",
   "execution_count": 3,
   "id": "5c635226",
   "metadata": {},
   "outputs": [],
   "source": [
    "sap_df[\"posting_date\"] = pd.to_datetime(sap_df[\"posting_date\"])\n",
    "\n",
    "sap_df[\"outlet\"] = sap_df[\"profit_center\"]\n",
    "sc_df[\"outlet\"] = sc_df[\"kode_outlet\"]\n",
    "\n",
    "sap_df[\"bulan\"] = sap_df[\"posting_date\"].dt.month\n",
    "sap_df.drop(columns=[\"posting_date\"], inplace=True)\n",
    "\n",
    "sc_df['jml_retur'] = -sc_df['jml_retur'].abs()\n",
    "sap_grouped = sap_df.groupby([\"outlet\", \"bulan\"], as_index=False)[\"kredit\"].sum()\n",
    "sc_grouped = sc_df.groupby([\"outlet\", \"bulan\"], as_index=False)[\"jml_retur\"].sum()"
   ]
  },
  {
   "cell_type": "code",
   "execution_count": 8,
   "id": "12762efb",
   "metadata": {},
   "outputs": [
    {
     "data": {
      "application/vnd.microsoft.datawrangler.viewer.v0+json": {
       "columns": [
        {
         "name": "index",
         "rawType": "int64",
         "type": "integer"
        },
        {
         "name": "outlet",
         "rawType": "object",
         "type": "string"
        },
        {
         "name": "bulan",
         "rawType": "int32",
         "type": "integer"
        },
        {
         "name": "kredit",
         "rawType": "int64",
         "type": "integer"
        }
       ],
       "ref": "08b6206d-c6e4-47c7-885c-8ee650c166d4",
       "rows": [
        [
         "0",
         "BX01",
         "1",
         "440757090"
        ],
        [
         "1",
         "BX01",
         "2",
         "476115649"
        ],
        [
         "2",
         "BX01",
         "3",
         "542067357"
        ],
        [
         "3",
         "BX01",
         "4",
         "253739055"
        ],
        [
         "4",
         "BX01",
         "5",
         "406737961"
        ],
        [
         "5",
         "BX03",
         "1",
         "614729253"
        ],
        [
         "6",
         "BX03",
         "2",
         "615808172"
        ],
        [
         "7",
         "BX03",
         "3",
         "696901898"
        ],
        [
         "8",
         "BX03",
         "4",
         "425763486"
        ],
        [
         "9",
         "BX03",
         "5",
         "682983010"
        ],
        [
         "10",
         "BX04",
         "1",
         "385633087"
        ],
        [
         "11",
         "BX04",
         "2",
         "417153489"
        ],
        [
         "12",
         "BX04",
         "3",
         "417015363"
        ],
        [
         "13",
         "BX04",
         "4",
         "367166683"
        ],
        [
         "14",
         "BX04",
         "5",
         "388851813"
        ],
        [
         "15",
         "BX05",
         "1",
         "3168000"
        ],
        [
         "16",
         "BX05",
         "2",
         "-3168000"
        ],
        [
         "17",
         "BX05",
         "4",
         "-25998000"
        ],
        [
         "18",
         "BX07",
         "1",
         "203857124"
        ],
        [
         "19",
         "BX07",
         "2",
         "196117880"
        ],
        [
         "20",
         "BX07",
         "3",
         "230152126"
        ],
        [
         "21",
         "BX07",
         "4",
         "221681958"
        ],
        [
         "22",
         "BX07",
         "5",
         "176749328"
        ],
        [
         "23",
         "BX08",
         "1",
         "126924240"
        ],
        [
         "24",
         "BX08",
         "2",
         "153381808"
        ],
        [
         "25",
         "BX08",
         "3",
         "109683056"
        ],
        [
         "26",
         "BX08",
         "4",
         "92472785"
        ],
        [
         "27",
         "BX08",
         "5",
         "124002563"
        ],
        [
         "28",
         "BX09",
         "1",
         "452112918"
        ],
        [
         "29",
         "BX09",
         "2",
         "345260702"
        ],
        [
         "30",
         "BX09",
         "3",
         "380289191"
        ],
        [
         "31",
         "BX09",
         "4",
         "217591577"
        ],
        [
         "32",
         "BX09",
         "5",
         "487098547"
        ],
        [
         "33",
         "BX10",
         "1",
         "632232417"
        ],
        [
         "34",
         "BX10",
         "2",
         "617760434"
        ],
        [
         "35",
         "BX10",
         "3",
         "710385032"
        ],
        [
         "36",
         "BX10",
         "4",
         "346945289"
        ],
        [
         "37",
         "BX10",
         "5",
         "655100807"
        ],
        [
         "38",
         "BX11",
         "1",
         "160294363"
        ],
        [
         "39",
         "BX11",
         "2",
         "141154328"
        ],
        [
         "40",
         "BX11",
         "3",
         "139348360"
        ],
        [
         "41",
         "BX11",
         "4",
         "87012625"
        ],
        [
         "42",
         "BX11",
         "5",
         "141062175"
        ],
        [
         "43",
         "BX12",
         "1",
         "133203200"
        ],
        [
         "44",
         "BX12",
         "2",
         "141809864"
        ],
        [
         "45",
         "BX12",
         "3",
         "129420063"
        ],
        [
         "46",
         "BX12",
         "4",
         "106359327"
        ],
        [
         "47",
         "BX12",
         "5",
         "174136162"
        ],
        [
         "48",
         "BX13",
         "1",
         "96041521"
        ],
        [
         "49",
         "BX13",
         "2",
         "119082271"
        ]
       ],
       "shape": {
        "columns": 3,
        "rows": 184
       }
      },
      "text/html": [
       "<div>\n",
       "<style scoped>\n",
       "    .dataframe tbody tr th:only-of-type {\n",
       "        vertical-align: middle;\n",
       "    }\n",
       "\n",
       "    .dataframe tbody tr th {\n",
       "        vertical-align: top;\n",
       "    }\n",
       "\n",
       "    .dataframe thead th {\n",
       "        text-align: right;\n",
       "    }\n",
       "</style>\n",
       "<table border=\"1\" class=\"dataframe\">\n",
       "  <thead>\n",
       "    <tr style=\"text-align: right;\">\n",
       "      <th></th>\n",
       "      <th>outlet</th>\n",
       "      <th>bulan</th>\n",
       "      <th>kredit</th>\n",
       "    </tr>\n",
       "  </thead>\n",
       "  <tbody>\n",
       "    <tr>\n",
       "      <th>0</th>\n",
       "      <td>BX01</td>\n",
       "      <td>1</td>\n",
       "      <td>440757090</td>\n",
       "    </tr>\n",
       "    <tr>\n",
       "      <th>1</th>\n",
       "      <td>BX01</td>\n",
       "      <td>2</td>\n",
       "      <td>476115649</td>\n",
       "    </tr>\n",
       "    <tr>\n",
       "      <th>2</th>\n",
       "      <td>BX01</td>\n",
       "      <td>3</td>\n",
       "      <td>542067357</td>\n",
       "    </tr>\n",
       "    <tr>\n",
       "      <th>3</th>\n",
       "      <td>BX01</td>\n",
       "      <td>4</td>\n",
       "      <td>253739055</td>\n",
       "    </tr>\n",
       "    <tr>\n",
       "      <th>4</th>\n",
       "      <td>BX01</td>\n",
       "      <td>5</td>\n",
       "      <td>406737961</td>\n",
       "    </tr>\n",
       "    <tr>\n",
       "      <th>...</th>\n",
       "      <td>...</td>\n",
       "      <td>...</td>\n",
       "      <td>...</td>\n",
       "    </tr>\n",
       "    <tr>\n",
       "      <th>179</th>\n",
       "      <td>BX52</td>\n",
       "      <td>1</td>\n",
       "      <td>115707419</td>\n",
       "    </tr>\n",
       "    <tr>\n",
       "      <th>180</th>\n",
       "      <td>BX52</td>\n",
       "      <td>2</td>\n",
       "      <td>126931009</td>\n",
       "    </tr>\n",
       "    <tr>\n",
       "      <th>181</th>\n",
       "      <td>BX52</td>\n",
       "      <td>3</td>\n",
       "      <td>122112575</td>\n",
       "    </tr>\n",
       "    <tr>\n",
       "      <th>182</th>\n",
       "      <td>BX52</td>\n",
       "      <td>4</td>\n",
       "      <td>72584048</td>\n",
       "    </tr>\n",
       "    <tr>\n",
       "      <th>183</th>\n",
       "      <td>BX52</td>\n",
       "      <td>5</td>\n",
       "      <td>156110527</td>\n",
       "    </tr>\n",
       "  </tbody>\n",
       "</table>\n",
       "<p>184 rows × 3 columns</p>\n",
       "</div>"
      ],
      "text/plain": [
       "    outlet  bulan     kredit\n",
       "0     BX01      1  440757090\n",
       "1     BX01      2  476115649\n",
       "2     BX01      3  542067357\n",
       "3     BX01      4  253739055\n",
       "4     BX01      5  406737961\n",
       "..     ...    ...        ...\n",
       "179   BX52      1  115707419\n",
       "180   BX52      2  126931009\n",
       "181   BX52      3  122112575\n",
       "182   BX52      4   72584048\n",
       "183   BX52      5  156110527\n",
       "\n",
       "[184 rows x 3 columns]"
      ]
     },
     "execution_count": 8,
     "metadata": {},
     "output_type": "execute_result"
    }
   ],
   "source": [
    "sap_grouped"
   ]
  },
  {
   "cell_type": "code",
   "execution_count": 7,
   "id": "2fe0dd6e",
   "metadata": {},
   "outputs": [
    {
     "data": {
      "application/vnd.microsoft.datawrangler.viewer.v0+json": {
       "columns": [
        {
         "name": "index",
         "rawType": "int64",
         "type": "integer"
        },
        {
         "name": "outlet",
         "rawType": "object",
         "type": "string"
        },
        {
         "name": "bulan",
         "rawType": "int64",
         "type": "integer"
        },
        {
         "name": "kredit",
         "rawType": "float64",
         "type": "float"
        },
        {
         "name": "jml_retur",
         "rawType": "float64",
         "type": "float"
        },
        {
         "name": "selisih",
         "rawType": "float64",
         "type": "float"
        },
        {
         "name": "status",
         "rawType": "object",
         "type": "string"
        }
       ],
       "ref": "159d6655-e450-44d9-ba5d-9014f1aababb",
       "rows": [
        [
         "17",
         "BX05",
         "4",
         "-25998000.0",
         "-25998000.0",
         "0.0",
         "VALID"
        ],
        [
         "60",
         "BX18",
         "4",
         "-27688495.0",
         "-27688495.0",
         "0.0",
         "VALID"
        ],
        [
         "102",
         "BX28",
         "1",
         "-338404.0",
         "-338404.0",
         "0.0",
         "VALID"
        ],
        [
         "104",
         "BX28",
         "4",
         "-300000.0",
         "-300000.0",
         "0.0",
         "VALID"
        ],
        [
         "136",
         "BX36",
         "2",
         "-24502.0",
         "-24502.0",
         "0.0",
         "VALID"
        ],
        [
         "138",
         "BX36",
         "4",
         "-239330.0",
         "-239330.0",
         "0.0",
         "VALID"
        ],
        [
         "159",
         "BX42",
         "1",
         "-156525.0",
         "-156525.0",
         "0.0",
         "VALID"
        ],
        [
         "161",
         "BX42",
         "3",
         "-4226488.0",
         "-4226488.0",
         "0.0",
         "VALID"
        ],
        [
         "167",
         "BX48",
         "4",
         "-35454000.0",
         "-35454000.0",
         "0.0",
         "VALID"
        ],
        [
         "0",
         "BX01",
         "1",
         "440757090.0",
         "-1465041.0",
         "442222131.0",
         "TIDAK VALID"
        ],
        [
         "1",
         "BX01",
         "2",
         "476115649.0",
         "-146003.0",
         "476261652.0",
         "TIDAK VALID"
        ],
        [
         "2",
         "BX01",
         "3",
         "542067357.0",
         "-11844114.0",
         "553911471.0",
         "TIDAK VALID"
        ],
        [
         "3",
         "BX01",
         "4",
         "253739055.0",
         "-431985.0",
         "254171040.0",
         "TIDAK VALID"
        ],
        [
         "4",
         "BX01",
         "5",
         "406737961.0",
         "-12677410.0",
         "419415371.0",
         "TIDAK VALID"
        ],
        [
         "5",
         "BX03",
         "1",
         "614729253.0",
         "-3821686.0",
         "618550939.0",
         "TIDAK VALID"
        ],
        [
         "6",
         "BX03",
         "2",
         "615808172.0",
         "-471659.0",
         "616279831.0",
         "TIDAK VALID"
        ],
        [
         "7",
         "BX03",
         "3",
         "696901898.0",
         "-45827892.0",
         "742729790.0",
         "TIDAK VALID"
        ],
        [
         "8",
         "BX03",
         "4",
         "425763486.0",
         "-1859515.0",
         "427623001.0",
         "TIDAK VALID"
        ],
        [
         "9",
         "BX03",
         "5",
         "682983010.0",
         "-138322.0",
         "683121332.0",
         "TIDAK VALID"
        ],
        [
         "10",
         "BX04",
         "1",
         "385633087.0",
         "-2437615.0",
         "388070702.0",
         "TIDAK VALID"
        ],
        [
         "11",
         "BX04",
         "2",
         "417153489.0",
         "-12973140.0",
         "430126629.0",
         "TIDAK VALID"
        ],
        [
         "12",
         "BX04",
         "3",
         "417015363.0",
         "-14543150.0",
         "431558513.0",
         "TIDAK VALID"
        ],
        [
         "13",
         "BX04",
         "4",
         "367166683.0",
         "-13470730.0",
         "380637413.0",
         "TIDAK VALID"
        ],
        [
         "14",
         "BX04",
         "5",
         "388851813.0",
         "-8539198.0",
         "397391011.0",
         "TIDAK VALID"
        ],
        [
         "15",
         "BX05",
         "1",
         "3168000.0",
         null,
         null,
         "TIDAK VALID"
        ],
        [
         "16",
         "BX05",
         "2",
         "-3168000.0",
         null,
         null,
         "TIDAK VALID"
        ],
        [
         "18",
         "BX06",
         "4",
         null,
         "0.0",
         null,
         "TIDAK VALID"
        ],
        [
         "19",
         "BX07",
         "1",
         "203857124.0",
         "-13036820.0",
         "216893944.0",
         "TIDAK VALID"
        ],
        [
         "20",
         "BX07",
         "2",
         "196117880.0",
         "-20138310.0",
         "216256190.0",
         "TIDAK VALID"
        ],
        [
         "21",
         "BX07",
         "3",
         "230152126.0",
         "-3809430.0",
         "233961556.0",
         "TIDAK VALID"
        ],
        [
         "22",
         "BX07",
         "4",
         "221681958.0",
         "0.0",
         "221681958.0",
         "TIDAK VALID"
        ],
        [
         "23",
         "BX07",
         "5",
         "176749328.0",
         "-341888.0",
         "177091216.0",
         "TIDAK VALID"
        ],
        [
         "24",
         "BX08",
         "1",
         "126924240.0",
         "-1285642.0",
         "128209882.0",
         "TIDAK VALID"
        ],
        [
         "25",
         "BX08",
         "2",
         "153381808.0",
         "-4877125.0",
         "158258933.0",
         "TIDAK VALID"
        ],
        [
         "26",
         "BX08",
         "3",
         "109683056.0",
         "-15299665.0",
         "124982721.0",
         "TIDAK VALID"
        ],
        [
         "27",
         "BX08",
         "4",
         "92472785.0",
         "-700868.0",
         "93173653.0",
         "TIDAK VALID"
        ],
        [
         "28",
         "BX08",
         "5",
         "124002563.0",
         "-2420571.0",
         "126423134.0",
         "TIDAK VALID"
        ],
        [
         "29",
         "BX09",
         "1",
         "452112918.0",
         "-2237841.0",
         "454350759.0",
         "TIDAK VALID"
        ],
        [
         "30",
         "BX09",
         "2",
         "345260702.0",
         "-11882406.0",
         "357143108.0",
         "TIDAK VALID"
        ],
        [
         "31",
         "BX09",
         "3",
         "380289191.0",
         "-9985572.0",
         "390274763.0",
         "TIDAK VALID"
        ],
        [
         "32",
         "BX09",
         "4",
         "217591577.0",
         "-7313479.0",
         "224905056.0",
         "TIDAK VALID"
        ],
        [
         "33",
         "BX09",
         "5",
         "487098547.0",
         "0.0",
         "487098547.0",
         "TIDAK VALID"
        ],
        [
         "34",
         "BX10",
         "1",
         "632232417.0",
         "-3782430.0",
         "636014847.0",
         "TIDAK VALID"
        ],
        [
         "35",
         "BX10",
         "2",
         "617760434.0",
         "-84447262.0",
         "702207696.0",
         "TIDAK VALID"
        ],
        [
         "36",
         "BX10",
         "3",
         "710385032.0",
         "-5946794.0",
         "716331826.0",
         "TIDAK VALID"
        ],
        [
         "37",
         "BX10",
         "4",
         "346945289.0",
         null,
         null,
         "TIDAK VALID"
        ],
        [
         "38",
         "BX10",
         "5",
         "655100807.0",
         "-10704278.0",
         "665805085.0",
         "TIDAK VALID"
        ],
        [
         "39",
         "BX11",
         "1",
         "160294363.0",
         "-228000.0",
         "160522363.0",
         "TIDAK VALID"
        ],
        [
         "40",
         "BX11",
         "2",
         "141154328.0",
         "-234766.0",
         "141389094.0",
         "TIDAK VALID"
        ],
        [
         "41",
         "BX11",
         "3",
         "139348360.0",
         "-351573.0",
         "139699933.0",
         "TIDAK VALID"
        ]
       ],
       "shape": {
        "columns": 6,
        "rows": 188
       }
      },
      "text/html": [
       "<div>\n",
       "<style scoped>\n",
       "    .dataframe tbody tr th:only-of-type {\n",
       "        vertical-align: middle;\n",
       "    }\n",
       "\n",
       "    .dataframe tbody tr th {\n",
       "        vertical-align: top;\n",
       "    }\n",
       "\n",
       "    .dataframe thead th {\n",
       "        text-align: right;\n",
       "    }\n",
       "</style>\n",
       "<table border=\"1\" class=\"dataframe\">\n",
       "  <thead>\n",
       "    <tr style=\"text-align: right;\">\n",
       "      <th></th>\n",
       "      <th>outlet</th>\n",
       "      <th>bulan</th>\n",
       "      <th>kredit</th>\n",
       "      <th>jml_retur</th>\n",
       "      <th>selisih</th>\n",
       "      <th>status</th>\n",
       "    </tr>\n",
       "  </thead>\n",
       "  <tbody>\n",
       "    <tr>\n",
       "      <th>17</th>\n",
       "      <td>BX05</td>\n",
       "      <td>4</td>\n",
       "      <td>-25998000.0</td>\n",
       "      <td>-25998000.0</td>\n",
       "      <td>0.0</td>\n",
       "      <td>VALID</td>\n",
       "    </tr>\n",
       "    <tr>\n",
       "      <th>60</th>\n",
       "      <td>BX18</td>\n",
       "      <td>4</td>\n",
       "      <td>-27688495.0</td>\n",
       "      <td>-27688495.0</td>\n",
       "      <td>0.0</td>\n",
       "      <td>VALID</td>\n",
       "    </tr>\n",
       "    <tr>\n",
       "      <th>102</th>\n",
       "      <td>BX28</td>\n",
       "      <td>1</td>\n",
       "      <td>-338404.0</td>\n",
       "      <td>-338404.0</td>\n",
       "      <td>0.0</td>\n",
       "      <td>VALID</td>\n",
       "    </tr>\n",
       "    <tr>\n",
       "      <th>104</th>\n",
       "      <td>BX28</td>\n",
       "      <td>4</td>\n",
       "      <td>-300000.0</td>\n",
       "      <td>-300000.0</td>\n",
       "      <td>0.0</td>\n",
       "      <td>VALID</td>\n",
       "    </tr>\n",
       "    <tr>\n",
       "      <th>136</th>\n",
       "      <td>BX36</td>\n",
       "      <td>2</td>\n",
       "      <td>-24502.0</td>\n",
       "      <td>-24502.0</td>\n",
       "      <td>0.0</td>\n",
       "      <td>VALID</td>\n",
       "    </tr>\n",
       "    <tr>\n",
       "      <th>...</th>\n",
       "      <td>...</td>\n",
       "      <td>...</td>\n",
       "      <td>...</td>\n",
       "      <td>...</td>\n",
       "      <td>...</td>\n",
       "      <td>...</td>\n",
       "    </tr>\n",
       "    <tr>\n",
       "      <th>183</th>\n",
       "      <td>BX52</td>\n",
       "      <td>1</td>\n",
       "      <td>115707419.0</td>\n",
       "      <td>-2424481.0</td>\n",
       "      <td>118131900.0</td>\n",
       "      <td>TIDAK VALID</td>\n",
       "    </tr>\n",
       "    <tr>\n",
       "      <th>184</th>\n",
       "      <td>BX52</td>\n",
       "      <td>2</td>\n",
       "      <td>126931009.0</td>\n",
       "      <td>-6284880.0</td>\n",
       "      <td>133215889.0</td>\n",
       "      <td>TIDAK VALID</td>\n",
       "    </tr>\n",
       "    <tr>\n",
       "      <th>185</th>\n",
       "      <td>BX52</td>\n",
       "      <td>3</td>\n",
       "      <td>122112575.0</td>\n",
       "      <td>-6558407.0</td>\n",
       "      <td>128670982.0</td>\n",
       "      <td>TIDAK VALID</td>\n",
       "    </tr>\n",
       "    <tr>\n",
       "      <th>186</th>\n",
       "      <td>BX52</td>\n",
       "      <td>4</td>\n",
       "      <td>72584048.0</td>\n",
       "      <td>-3087439.0</td>\n",
       "      <td>75671487.0</td>\n",
       "      <td>TIDAK VALID</td>\n",
       "    </tr>\n",
       "    <tr>\n",
       "      <th>187</th>\n",
       "      <td>BX52</td>\n",
       "      <td>5</td>\n",
       "      <td>156110527.0</td>\n",
       "      <td>-4637299.0</td>\n",
       "      <td>160747826.0</td>\n",
       "      <td>TIDAK VALID</td>\n",
       "    </tr>\n",
       "  </tbody>\n",
       "</table>\n",
       "<p>188 rows × 6 columns</p>\n",
       "</div>"
      ],
      "text/plain": [
       "    outlet  bulan       kredit   jml_retur      selisih       status\n",
       "17    BX05      4  -25998000.0 -25998000.0          0.0        VALID\n",
       "60    BX18      4  -27688495.0 -27688495.0          0.0        VALID\n",
       "102   BX28      1    -338404.0   -338404.0          0.0        VALID\n",
       "104   BX28      4    -300000.0   -300000.0          0.0        VALID\n",
       "136   BX36      2     -24502.0    -24502.0          0.0        VALID\n",
       "..     ...    ...          ...         ...          ...          ...\n",
       "183   BX52      1  115707419.0  -2424481.0  118131900.0  TIDAK VALID\n",
       "184   BX52      2  126931009.0  -6284880.0  133215889.0  TIDAK VALID\n",
       "185   BX52      3  122112575.0  -6558407.0  128670982.0  TIDAK VALID\n",
       "186   BX52      4   72584048.0  -3087439.0   75671487.0  TIDAK VALID\n",
       "187   BX52      5  156110527.0  -4637299.0  160747826.0  TIDAK VALID\n",
       "\n",
       "[188 rows x 6 columns]"
      ]
     },
     "execution_count": 7,
     "metadata": {},
     "output_type": "execute_result"
    }
   ],
   "source": [
    "validasi = pd.merge(sap_grouped, sc_grouped, on=[\"outlet\", \"bulan\"], how=\"outer\")\n",
    "validasi[\"selisih\"] = validasi[\"kredit\"] - validasi[\"jml_retur\"]\n",
    "validasi[\"status\"] = validasi[\"selisih\"].apply(lambda x: \"VALID\" if abs(x) < 1 else \"TIDAK VALID\")\n",
    "\n",
    "validasi.sort_values(by=[\"status\", \"outlet\", \"bulan\"], ascending=[False, True, True])\n"
   ]
  }
 ],
 "metadata": {
  "kernelspec": {
   "display_name": "kfml",
   "language": "python",
   "name": "python3"
  },
  "language_info": {
   "codemirror_mode": {
    "name": "ipython",
    "version": 3
   },
   "file_extension": ".py",
   "mimetype": "text/x-python",
   "name": "python",
   "nbconvert_exporter": "python",
   "pygments_lexer": "ipython3",
   "version": "3.10.18"
  }
 },
 "nbformat": 4,
 "nbformat_minor": 5
}
